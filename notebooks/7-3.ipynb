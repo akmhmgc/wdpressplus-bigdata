{
  "nbformat": 4,
  "nbformat_minor": 0,
  "metadata": {
    "colab": {
      "name": "7-3",
      "provenance": [],
      "authorship_tag": "ABX9TyOLG8m0v7mzPV3ULCooOQ02",
      "include_colab_link": true
    },
    "kernelspec": {
      "name": "python3",
      "display_name": "Python 3"
    }
  },
  "cells": [
    {
      "cell_type": "markdown",
      "metadata": {
        "id": "view-in-github",
        "colab_type": "text"
      },
      "source": [
        "<a href=\"https://colab.research.google.com/github/k24d/colab/blob/main/7_3.ipynb\" target=\"_parent\"><img src=\"https://colab.research.google.com/assets/colab-badge.svg\" alt=\"Open In Colab\"/></a>"
      ]
    },
    {
      "cell_type": "code",
      "metadata": {
        "id": "c30o-uV3VLGr"
      },
      "source": [
        "!pip install boto3 prefect~=0.13"
      ],
      "execution_count": null,
      "outputs": []
    },
    {
      "cell_type": "code",
      "metadata": {
        "id": "WpffuiTSVMyL"
      },
      "source": [
        "# p.xx List 7.7\n",
        "\n",
        "from prefect import task, Flow\n",
        "\n",
        "@task\n",
        "def get_message():\n",
        "    return 'Hello, world!'\n",
        "\n",
        "@task\n",
        "def print_message(msg):\n",
        "    print(msg)\n",
        "\n",
        "with Flow('hello') as flow:\n",
        "    msg = get_message()\n",
        "    print_message(msg)\n",
        "\n",
        "if __name__ == '__main__':\n",
        "    flow.run()"
      ],
      "execution_count": null,
      "outputs": []
    },
    {
      "cell_type": "code",
      "metadata": {
        "id": "aHgMT_vtVjxQ"
      },
      "source": [
        "# p.xx List 7.8\n",
        "\n",
        "import prefect\n",
        "from prefect import task, Flow, Parameter\n",
        "\n",
        "@task\n",
        "def download(date):\n",
        "    target_date = date or prefect.context.yesterday\n",
        "    print(f\"Donwload ftp://server/{target_date}/app.log\")\n",
        "\n",
        "with Flow('download') as flow:\n",
        "    date = Parameter('date', default=None)\n",
        "    download(date)\n",
        "\n",
        "if __name__ == '__main__':\n",
        "    flow.run()"
      ],
      "execution_count": null,
      "outputs": []
    },
    {
      "cell_type": "code",
      "metadata": {
        "id": "ri1e2ejoVqBG"
      },
      "source": [
        "# p.xx List 7.10\n",
        "\n",
        "from prefect import Task, Flow\n",
        "\n",
        "class LogTask(Task):\n",
        "    def __init__(self, prefix, **kwargs):\n",
        "        super().__init__(**kwargs)\n",
        "        self.prefix = prefix\n",
        "\n",
        "    def run(self, message):\n",
        "        print(f\"{self.prefix}: {message}\")\n",
        "\n",
        "log = LogTask('INFO')\n",
        "\n",
        "with Flow('task-class') as flow:\n",
        "    log('message')\n",
        "\n",
        "if __name__ == '__main__':\n",
        "    flow.run()"
      ],
      "execution_count": null,
      "outputs": []
    },
    {
      "cell_type": "code",
      "metadata": {
        "id": "5ZR5m1-XZG51"
      },
      "source": [
        "# Enable pytest in notebooks\n",
        "!pip install ipytest\n",
        "import ipytest\n",
        "ipytest.autoconfig()"
      ],
      "execution_count": null,
      "outputs": []
    },
    {
      "cell_type": "code",
      "metadata": {
        "id": "_BDRwkipX7O4"
      },
      "source": [
        "# p.xx List 7.11\n",
        "%%run_pytest\n",
        "\n",
        "from prefect import task, Flow\n",
        "\n",
        "@task\n",
        "def get_message():\n",
        "    return 'Hello, world!'\n",
        "\n",
        "def test_get_message():\n",
        "    with Flow('test') as flow:\n",
        "        get_message()\n",
        "    state = flow.run()\n",
        "    task = flow.get_tasks(name='get_message')[0]\n",
        "    assert state.result[task].result == 'Hello, world!'"
      ],
      "execution_count": null,
      "outputs": []
    },
    {
      "cell_type": "code",
      "metadata": {
        "id": "zlNmgLQ-bl3d"
      },
      "source": [
        "# p.xx List xx\n",
        "# NOTE: This doesn't work on Colab because docker is not installed.\n",
        "\n",
        "from os.path import abspath\n",
        "from prefect.environments.storage import Docker\n",
        "\n",
        "storage = Docker(\n",
        "    base_image='ghcr.io/wdpressplus-bigdata/spark:latest',\n",
        "    image_name='warehouse',\n",
        "    # registry_url='ghcr.io/MY-PROJECT',\n",
        "    files={\n",
        "      abspath('scripts/warehouse.py'): '/opt/scripts/warehouse.py',\n",
        "    },\n",
        ")\n",
        "storage.add_flow(flow)\n",
        "storage.build()"
      ],
      "execution_count": null,
      "outputs": []
    }
  ]
}