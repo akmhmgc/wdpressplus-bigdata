{
  "nbformat": 4,
  "nbformat_minor": 0,
  "metadata": {
    "kernelspec": {
      "display_name": "Python 3",
      "language": "python",
      "name": "python3"
    },
    "language_info": {
      "codemirror_mode": {
        "name": "ipython",
        "version": 3
      },
      "file_extension": ".py",
      "mimetype": "text/x-python",
      "name": "python",
      "nbconvert_exporter": "python",
      "pygments_lexer": "ipython3",
      "version": "3.8.5"
    },
    "colab": {
      "name": "7-1.ipynb",
      "provenance": [],
      "include_colab_link": true
    }
  },
  "cells": [
    {
      "cell_type": "markdown",
      "metadata": {
        "id": "view-in-github",
        "colab_type": "text"
      },
      "source": [
        "<a href=\"https://colab.research.google.com/github/wdpressplus-bigdata/wdpressplus-bigdata/blob/main/notebooks/7-1.ipynb\" target=\"_parent\"><img src=\"https://colab.research.google.com/assets/colab-badge.svg\" alt=\"Open In Colab\"/></a>"
      ]
    },
    {
      "cell_type": "code",
      "metadata": {
        "id": "xWVhxY9ktUQm"
      },
      "source": [
        "# p.xxx List 7.2\n",
        "\n",
        "import pathlib\n",
        "import requests\n",
        "\n",
        "def download_file(filename):\n",
        "    prefix = 'https://github.com/wdpressplus-bigdata/uscrn/raw/main'\n",
        "    r = requests.get(f\"{prefix}/2020/{filename}\")\n",
        "    r.raise_for_status()\n",
        "    path = pathlib.Path('./raw')\n",
        "    path.mkdir(parents=True, exist_ok=True)\n",
        "    with open(path / filename, 'wb') as f:\n",
        "        f.write(r.content)\n",
        "    print(f\"Saved {path / filename}\")\n",
        "\n",
        "FILES = [\n",
        "    'CRNS0101-05-2020-AK_Aleknagik_1_NNE.txt',\n",
        "    'CRNS0101-05-2020-AK_Bethel_87_WNW.txt',\n",
        "]\n",
        "for filename in FILES:\n",
        "    download_file(filename)"
      ],
      "execution_count": null,
      "outputs": []
    },
    {
      "cell_type": "code",
      "metadata": {
        "id": "zY0KX2uUtUQm"
      },
      "source": [
        "# p.xx\n",
        "\n",
        "!pip install pandas"
      ],
      "execution_count": null,
      "outputs": []
    },
    {
      "cell_type": "code",
      "metadata": {
        "id": "VKJ8DJ72tUQm"
      },
      "source": [
        "import glob\n",
        "import pandas as pd\n",
        "\n",
        "def read_tables():\n",
        "    for path in glob.glob('./raw/*.txt'):\n",
        "        yield pd.read_table(path, delimiter='\\s+', header=None, dtype='str')\n",
        "\n",
        "df = pd.concat(read_tables())\n",
        "df.head(2)"
      ],
      "execution_count": null,
      "outputs": []
    },
    {
      "cell_type": "code",
      "metadata": {
        "id": "EBoqIzvrtUQm"
      },
      "source": [
        "df1 = df[[0, 1, 2, 8]]\n",
        "df1.columns = ['wbanno', 'utc_date', 'utc_time', 'temperature']\n",
        "df1.head(2)"
      ],
      "execution_count": null,
      "outputs": []
    },
    {
      "cell_type": "code",
      "metadata": {
        "id": "DWWv-OJ5tUQn"
      },
      "source": [
        "df2 = df1.copy()\n",
        "df2.index = pd.to_datetime(df2['utc_date'] + df2['utc_time'])\n",
        "df2.drop(columns=['utc_date', 'utc_time'], inplace=True)\n",
        "df2.head(2)"
      ],
      "execution_count": null,
      "outputs": []
    },
    {
      "cell_type": "code",
      "metadata": {
        "id": "xupd_r5dtUQn"
      },
      "source": [
        "df2.describe().T"
      ],
      "execution_count": null,
      "outputs": []
    },
    {
      "cell_type": "code",
      "metadata": {
        "id": "Frk4kYFQtUQn"
      },
      "source": [
        "df2['temperature'] = df2['temperature'].astype('float')\n",
        "df2.describe().T"
      ],
      "execution_count": null,
      "outputs": []
    },
    {
      "cell_type": "code",
      "metadata": {
        "id": "V0D6LqBbtUQn"
      },
      "source": [
        "df3 = df2.copy()\n",
        "df3.loc[df3['temperature'] == -9999.0, 'temperature'] = None\n",
        "df3.describe().T"
      ],
      "execution_count": null,
      "outputs": []
    },
    {
      "cell_type": "code",
      "metadata": {
        "id": "4HW9qrrVtUQn"
      },
      "source": [
        "# p.xx\n",
        "\n",
        "!pip install pyspark"
      ],
      "execution_count": null,
      "outputs": []
    },
    {
      "cell_type": "code",
      "metadata": {
        "id": "TXEBQWh3zIXU"
      },
      "source": [
        "from pyspark.sql.session import SparkSession\n",
        "spark = SparkSession.builder.getOrCreate()\n",
        "spark"
      ],
      "execution_count": null,
      "outputs": []
    },
    {
      "cell_type": "code",
      "metadata": {
        "id": "VUbKGtdOz3K1"
      },
      "source": [
        "rdd = spark.sparkContext.textFile('./raw/*')\n",
        "rdd.take(2)"
      ],
      "execution_count": null,
      "outputs": []
    },
    {
      "cell_type": "code",
      "metadata": {
        "id": "-_yNuuT2z7Cl"
      },
      "source": [
        "rdd.count()"
      ],
      "execution_count": null,
      "outputs": []
    },
    {
      "cell_type": "code",
      "metadata": {
        "id": "XPhHTyQ-09Wn"
      },
      "source": [
        "from datetime import datetime, timezone\n",
        "from pyspark.sql import Row\n",
        "\n",
        "def parse_line(line):\n",
        "    f = line.split()\n",
        "    wbanno = f[0]\n",
        "    dt = datetime.strptime(f[1] + f[2], '%Y%m%d%H%M')\n",
        "    dt = dt.replace(tzinfo=timezone.utc)\n",
        "    temperature = None if f[8] == '-9999.0' else float(f[8])\n",
        "    return Row(timestamp=dt, wbanno=wbanno, temperature=temperature)\n",
        "\n",
        "rows = rdd.map(parse_line)\n",
        "rows.take(2)"
      ],
      "execution_count": null,
      "outputs": []
    },
    {
      "cell_type": "code",
      "metadata": {
        "id": "oNZPFInj0_dv"
      },
      "source": [
        "df = rdd.map(parse_line).toDF()\n",
        "df"
      ],
      "execution_count": null,
      "outputs": []
    },
    {
      "cell_type": "code",
      "metadata": {
        "id": "o5_iqkRQ1EEn"
      },
      "source": [
        "spark.conf.set(\"spark.sql.session.timeZone\", 'UTC')\n",
        "\n",
        "df.show(2)"
      ],
      "execution_count": null,
      "outputs": []
    },
    {
      "cell_type": "code",
      "metadata": {
        "id": "lAKfEX1-1Htn"
      },
      "source": [
        "df.describe().show()"
      ],
      "execution_count": null,
      "outputs": []
    },
    {
      "cell_type": "code",
      "metadata": {
        "id": "ALBN8_u31SM-"
      },
      "source": [
        "df.createOrReplaceTempView('uscrn')"
      ],
      "execution_count": null,
      "outputs": []
    },
    {
      "cell_type": "code",
      "metadata": {
        "id": "0LhLXFP_1XK-"
      },
      "source": [
        "query = '''\n",
        "SELECT\n",
        "  wbanno,\n",
        "  min_by(timestamp, temperature) timestamp_min,\n",
        "  min(temperature) t_min,\n",
        "  max_by(timestamp, temperature) timestamp_max,\n",
        "  max(temperature) t_max\n",
        "FROM\n",
        "  uscrn\n",
        "GROUP by\n",
        "  1\n",
        "'''\n",
        "spark.sql(query).show()"
      ],
      "execution_count": null,
      "outputs": []
    },
    {
      "cell_type": "code",
      "metadata": {
        "id": "MvOyXJ9G1Z0e"
      },
      "source": [
        "df.write.save('./uscrn-parquet')"
      ],
      "execution_count": null,
      "outputs": []
    },
    {
      "cell_type": "code",
      "metadata": {
        "id": "_9HfNjSW1e7F"
      },
      "source": [
        "!ls ./uscrn-parquet"
      ],
      "execution_count": null,
      "outputs": []
    },
    {
      "cell_type": "code",
      "metadata": {
        "id": "OldBX49a1hX2"
      },
      "source": [
        "df = spark.read.load('./uscrn-parquet')\n",
        "df.groupBy('wbanno').avg('temperature').show()"
      ],
      "execution_count": null,
      "outputs": []
    },
    {
      "cell_type": "code",
      "metadata": {
        "id": "TAenhKff1kS1"
      },
      "source": [
        "# Spark Dataframe\n",
        "\n",
        "from pyspark.sql.session import SparkSession\n",
        "spark = SparkSession.builder.getOrCreate()\n",
        "spark.conf.set(\"spark.sql.session.timeZone\", 'UTC')\n",
        "\n",
        "df = spark.read.load('./uscrn-parquet')\n",
        "df1 = df.groupBy('timestamp').avg().toPandas()\n",
        "df1.sort_values(by='avg(temperature)', ascending=False).head(2)"
      ],
      "execution_count": null,
      "outputs": []
    },
    {
      "cell_type": "code",
      "metadata": {
        "id": "q4UPLh1Z1nFO"
      },
      "source": [
        "# Pandas Dataframe\n",
        "\n",
        "!pip install pyarrow"
      ],
      "execution_count": null,
      "outputs": []
    },
    {
      "cell_type": "code",
      "metadata": {
        "id": "pcIkTmtq1rT2"
      },
      "source": [
        "import pandas as pd\n",
        "df = pd.read_parquet('./uscrn-parquet')\n",
        "\n",
        "df1 = df.groupby('timestamp').mean()\n",
        "df1.sort_values(by='temperature', ascending=False).head(2)"
      ],
      "execution_count": null,
      "outputs": []
    },
    {
      "cell_type": "code",
      "metadata": {
        "id": "1hKDIvRr1uUt"
      },
      "source": [
        "# p.xx\n",
        "\n",
        "from pyspark.sql.session import SparkSession\n",
        "spark = SparkSession.builder.getOrCreate()\n",
        "spark.conf.set(\"spark.sql.session.timeZone\", 'UTC')\n",
        "\n",
        "df = spark.read.load('./uscrn-parquet')\n",
        "df1 = df.where(\"timestamp >= '2020-01-01' AND timestamp < '2020-04-01'\")\n",
        "df1.count()"
      ],
      "execution_count": null,
      "outputs": []
    },
    {
      "cell_type": "code",
      "metadata": {
        "id": "MSzeZW7j9Yb_"
      },
      "source": [
        "df1.coalesce(1).write.save('./export', format='csv', header=True)"
      ],
      "execution_count": null,
      "outputs": []
    },
    {
      "cell_type": "code",
      "metadata": {
        "id": "cseQxaw59aZd"
      },
      "source": [
        "!ls ./export"
      ],
      "execution_count": null,
      "outputs": []
    }
  ]
}